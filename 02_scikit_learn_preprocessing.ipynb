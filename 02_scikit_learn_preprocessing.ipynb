{
  "nbformat": 4,
  "nbformat_minor": 0,
  "metadata": {
    "colab": {
      "name": "02_scikit_learn_preprocessing.ipynb",
      "provenance": [],
      "collapsed_sections": [],
      "include_colab_link": true
    },
    "kernelspec": {
      "name": "python3",
      "display_name": "Python 3"
    }
  },
  "cells": [
    {
      "cell_type": "markdown",
      "metadata": {
        "id": "view-in-github",
        "colab_type": "text"
      },
      "source": [
        "<a href=\"https://colab.research.google.com/github/GoldK11/machineLearning/blob/main/02_scikit_learn_preprocessing.ipynb\" target=\"_parent\"><img src=\"https://colab.research.google.com/assets/colab-badge.svg\" alt=\"Open In Colab\"/></a>"
      ]
    },
    {
      "cell_type": "markdown",
      "metadata": {
        "id": "ej8kREqUJUV4"
      },
      "source": [
        "# 피처 스케일링\n",
        "**학습 정확도 비교**\n",
        "서포트 벡터 모델 사용\n",
        "\n",
        "\n",
        "**0. 원본 데이터**"
      ]
    },
    {
      "cell_type": "code",
      "metadata": {
        "id": "lvV9dZpJJb8Y",
        "colab": {
          "base_uri": "https://localhost:8080/",
          "height": 92
        },
        "outputId": "d804957d-0740-4613-80bf-28e478500552"
      },
      "source": [
        "# 예제 데이터 세트\n",
        "from sklearn.datasets import load_breast_cancer  \n",
        "\n",
        "from sklearn.model_selection import train_test_split \n",
        "\n",
        "# 학습 모델 선택 - 서포트 벡터 머신\n",
        "from sklearn.svm import SVC \n",
        "\n",
        "# 학습/테스트 데이터 분할\n",
        "cancer = load_breast_cancer()\n",
        "x_train, x_test, y_train, y_test = train_test_split(cancer.data,\n",
        "                                                    cancer.target,\n",
        "                                                    random_state=0)\n",
        "# 모델 객체화\n",
        "svm = SVC(C=100)\n",
        "\n",
        "# 학습 데이터로 모델 학습\n",
        "svm.fit(x_train,y_train)\n",
        "\n",
        "# 테스트 데이터로 정확도 검사\n",
        "svm_score= svm.score(x_test,y_test)\n",
        "\n",
        "print(\"원본 데이터 정확도: {:.2f} \".format(svm_score))"
      ],
      "execution_count": null,
      "outputs": [
        {
          "output_type": "stream",
          "text": [
            "원본 데이터 정확도: 0.63 \n"
          ],
          "name": "stdout"
        },
        {
          "output_type": "stream",
          "text": [
            "/usr/local/lib/python3.6/dist-packages/sklearn/svm/base.py:196: FutureWarning: The default value of gamma will change from 'auto' to 'scale' in version 0.22 to account better for unscaled features. Set gamma explicitly to 'auto' or 'scale' to avoid this warning.\n",
            "  \"avoid this warning.\", FutureWarning)\n"
          ],
          "name": "stderr"
        }
      ]
    },
    {
      "cell_type": "markdown",
      "metadata": {
        "id": "fGNfAHoFJmBv"
      },
      "source": [
        "**1. 표준화 StandardScaler**"
      ]
    },
    {
      "cell_type": "code",
      "metadata": {
        "id": "9pNFOSpLQppW",
        "colab": {
          "base_uri": "https://localhost:8080/",
          "height": 35
        },
        "outputId": "dd50fa1f-ebbb-4c89-a07a-b639156a5b92"
      },
      "source": [
        "from sklearn.preprocessing import StandardScaler\n",
        "\n",
        "# 표준화 클래스 객체화\n",
        "st_scaler = StandardScaler()\n",
        "\n",
        "# 피처 표준화\n",
        "st_scaler.fit(x_train)\n",
        "x_train_stScaled = st_scaler.transform(x_train)\n",
        "x_test_stScaled = st_scaler.transform(x_test)\n",
        "\n",
        "# 모델 객체화 \n",
        "svm_stScaled = SVC(C=100)\n",
        "\n",
        "# 표준화된 학습 데이터로 모델 학습\n",
        "svm_stScaled.fit(x_train_stScaled,y_train)\n",
        "\n",
        "# 표준화된 테스트 데이터로 정확도 검사\n",
        "svm_stScaled_score= svm_stScaled.score(x_test_stScaled,y_test)\n",
        "\n",
        "print(\"표준화 후 정확도: {:.2f} \".format(svm_stScaled_score))"
      ],
      "execution_count": null,
      "outputs": [
        {
          "output_type": "stream",
          "text": [
            "표준화 후 정확도: 0.96 \n"
          ],
          "name": "stdout"
        }
      ]
    },
    {
      "cell_type": "markdown",
      "metadata": {
        "id": "UatKyHRMSv8m"
      },
      "source": [
        "**2. 정규화 MinMaxScaler**"
      ]
    },
    {
      "cell_type": "code",
      "metadata": {
        "id": "BkM2FY2bS7fW",
        "colab": {
          "base_uri": "https://localhost:8080/",
          "height": 92
        },
        "outputId": "56cbbb87-6c6e-485a-e742-9224b85042e2"
      },
      "source": [
        "from sklearn.preprocessing import MinMaxScaler\n",
        "\n",
        "# 정규화 클래스 객체화\n",
        "mm_scaler = MinMaxScaler()\n",
        "\n",
        "# 피처 정규화\n",
        "mm_scaler.fit(x_train)\n",
        "x_train_mmScaled = mm_scaler.transform(x_train)\n",
        "x_test_mmScaled = mm_scaler.transform(x_test)\n",
        "\n",
        "# 모델 객체화 \n",
        "svm_mmScaled = SVC(C=100)\n",
        "\n",
        "# 정규화된 학습 데이터로 모델 학습\n",
        "svm_mmScaled.fit(x_train_mmScaled,y_train)\n",
        "\n",
        "# 정규화된 테스트 데이터로 정확도 검사\n",
        "svm_mmScaled_score= svm_mmScaled.score(x_test_mmScaled,y_test)\n",
        "\n",
        "print(\"정규화 후 정확도: {:.2f} \".format(svm_mmScaled_score))"
      ],
      "execution_count": null,
      "outputs": [
        {
          "output_type": "stream",
          "text": [
            "정규화 후 정확도: 0.97 \n"
          ],
          "name": "stdout"
        },
        {
          "output_type": "stream",
          "text": [
            "/usr/local/lib/python3.6/dist-packages/sklearn/svm/base.py:196: FutureWarning: The default value of gamma will change from 'auto' to 'scale' in version 0.22 to account better for unscaled features. Set gamma explicitly to 'auto' or 'scale' to avoid this warning.\n",
            "  \"avoid this warning.\", FutureWarning)\n"
          ],
          "name": "stderr"
        }
      ]
    },
    {
      "cell_type": "code",
      "metadata": {
        "id": "GimT-zR_rMry",
        "colab": {
          "base_uri": "https://localhost:8080/",
          "height": 35
        },
        "outputId": "5ec09cd4-cf03-4ee2-87f6-f093bcade167"
      },
      "source": [
        "scaler = StandardScaler()\n",
        "\n",
        "scaler.fit(x_train_mmScaled)\n",
        "x_scaled_train = scaler.transform(x_train_mmScaled)\n",
        "x_scaled_test = scaler.transform(x_test_mmScaled)\n",
        "\n",
        "svm_scaled = SVC(C=100)\n",
        "\n",
        "svm_scaled.fit(x_scaled_train,y_train)\n",
        "\n",
        "svm_scaled_score = svm_scaled.score(x_scaled_test,y_test)\n",
        "\n",
        "print(\"정규화 > 표준화 후 정확도: {:.2f} \".format(svm_scaled_score))\n"
      ],
      "execution_count": null,
      "outputs": [
        {
          "output_type": "stream",
          "text": [
            "정규화 > 표준화 후 정확도: 0.96 \n"
          ],
          "name": "stdout"
        }
      ]
    }
  ]
}